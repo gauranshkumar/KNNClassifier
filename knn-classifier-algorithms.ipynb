{
 "cells": [
  {
   "cell_type": "markdown",
   "metadata": {},
   "source": [
    "# Creating Our Own K-Nearest Neighbours Classifiers\n",
    "***\n",
    "## The Dataset\n",
    "***\n",
    "We are going to use the Iris data set.\n",
    "\n",
    "Iris is a type of flower with three types of species namely\n",
    "\n",
    "* *Setosa*\n",
    "* *Versicolor*\n",
    "* *Virginica*\n",
    "\n",
    "Each Species has four measurments :\n",
    "\n",
    "* *Sepal Length*\n",
    "* *Sepal Width*\n",
    "* *Petal Length*\n",
    "* *Petal Width*\n",
    "\n",
    "To Study More about the Iris Dataset please refer [Wikipedia](https://en.wikipedia.org/wiki/Iris_flower_data_set)."
   ]
  },
  {
   "cell_type": "markdown",
   "metadata": {},
   "source": [
    "## The Algorithm\n",
    "***\n",
    "The basic idea of this algorith is to separate(classify) the data into categories from the training data and then use that category to predict the category of the new data.\n",
    "\n",
    "To do this we have to compare the Eucledian distance of New Data and with the Old data categries and then predict the  Category of the new data.\n",
    "\n",
    "This can be More understanded with this graph\n",
    "\n",
    "![](https://pbs.twimg.com/media/DmVRIqrXcAAOvtH.jpg:large)\n"
   ]
  },
  {
   "cell_type": "markdown",
   "metadata": {},
   "source": [
    "## Prerequisite \n",
    "***\n",
    "The important Python Packages needed are \n",
    "\n",
    "1. *Scikit-Learn(sklearn)*\n",
    "2. *Scipy*\n"
   ]
  },
  {
   "cell_type": "markdown",
   "metadata": {},
   "source": [
    "**In the below code cell we have imported all the needed libraries.**"
   ]
  },
  {
   "cell_type": "code",
   "execution_count": 1,
   "metadata": {
    "_cell_guid": "b1076dfc-b9ad-4769-8c92-a6c4dae69d19",
    "_uuid": "8f2839f25d086af736a60e9eeb907d3b93b6e0e5"
   },
   "outputs": [],
   "source": [
    "# importing iris from scikit-learn\n",
    "from sklearn.datasets import load_iris\n",
    "# importing accuracy_score to check the accuracy of the prediction\n",
    "from sklearn.metrics import accuracy_score  \n",
    "# importing train_test_split to split the data in training and testing parts\n",
    "from sklearn.model_selection import train_test_split\n",
    "# importing the distance method to measure the Eucledian distance\n",
    "from scipy.spatial import distance\n",
    "# loading iris dataset to a local object\n",
    "iris = load_iris()"
   ]
  },
  {
   "cell_type": "code",
   "execution_count": 2,
   "metadata": {
    "_cell_guid": "79c7e3d0-c299-4dcb-8224-4455121ee9b0",
    "_kg_hide-output": false,
    "_uuid": "d629ff2d2480ee46fbb7e2d37f6b5fab8052498a"
   },
   "outputs": [],
   "source": [
    "# taking the iris features in variable X \n",
    "X = iris.data\n",
    "# taking the iris lables in variable y\n",
    "y = iris.target\n",
    "# splitting the features and lables in training and testing part\n",
    "# Size of the testing data is the 20% of the total data i.e 30 examples out of 150 \n",
    "X_train,X_test,y_train,y_test = train_test_split(X,y, test_size=0.2)"
   ]
  },
  {
   "cell_type": "markdown",
   "metadata": {},
   "source": [
    "## Creating the algorithms\n",
    "***\n",
    "** In the below cell we will write the code for the KNN classifier **\n",
    "\n",
    "1. To create this we will start with cresting an class named **** KNNClassifier ****.\n",
    "2. Then we need three basic methods to run our classifier : \n",
    "    - **fit()** method.\n",
    "        - In this method we take the _TRAINING DATASET_.\n",
    "    - **predict()** method.\n",
    "        - Here we will take the data for which this method return<br> \n",
    "          the predicted output.\n",
    "    - **close()** method\n",
    "        - This is a method used at the backend of the classifier.<br>\n",
    "          In the close method we measure the distance of the _TEST CASE_<br>\n",
    "          with each row of the Training Dataset and return the index of <br>\n",
    "          the closest row of the Training Dataset.<br>\n",
    "\n"
   ]
  },
  {
   "cell_type": "code",
   "execution_count": 3,
   "metadata": {},
   "outputs": [],
   "source": [
    "# creating the KNNClassifier class\n",
    "class KNNClassifier:\n",
    "    def fit(self, X_train, y_train):                # creating the fit method\n",
    "        self.X_train = X_train                      # getting the features of the training dataset \n",
    "        self.y_train = y_train                      # getting the lables of the training dataset \n",
    "        \n",
    "    def predict(self, X_test):                      # creating the pridict method\n",
    "        pre = []\n",
    "        for i in X_test:\n",
    "            res = self.close(i)                     # getting the closeset value from the close method\n",
    "            pre.append(y_train[res])                # apppending the prediction list with the lable of closest feature\n",
    "        return pre                                  # returning the predicted array\n",
    "            \n",
    "    def close(self, i):                             # creating the close method\n",
    "        bestdist = distance.euclidean(self.X_train[0],i)   # assuming that first index is the best index\n",
    "        bestinx = 0\n",
    "        for j in range(len(self.X_train)):\n",
    "            if distance.euclidean(self.X_train[j],i) < bestdist:   #measuring Euclidean distance \n",
    "                bestinx = j\n",
    "                bestdist = distance.euclidean(self.X_train[j],i)\n",
    "            \n",
    "        return bestinx                              # returning the closest index\n",
    "    \n",
    "    \n",
    "        "
   ]
  },
  {
   "cell_type": "markdown",
   "metadata": {},
   "source": [
    "## Checking the algorithm\n",
    "***\n",
    "In the below cell we will fit the data to the algorithm.\n",
    "Also we will predict the values of the _TESTING DATA_.\n",
    "In the last line will check the accuracy of the predicted\n",
    "output with the original values."
   ]
  },
  {
   "cell_type": "code",
   "execution_count": 4,
   "metadata": {},
   "outputs": [
    {
     "name": "stdout",
     "output_type": "stream",
     "text": [
      "96.66666666666667%\n"
     ]
    }
   ],
   "source": [
    "# creating the classifier object clf.\n",
    "clf = KNNClassifier()\n",
    "# fitting the Training Dataset in the object.\n",
    "clf.fit(X_train, y_train)\n",
    "# storing the predicted output in ans.\n",
    "ans = clf.predict(X_test)\n",
    "# checking the Accuracy Score of the prediction \n",
    "print(str(accuracy_score(ans, y_test)*100) +\"%\")"
   ]
  },
  {
   "cell_type": "markdown",
   "metadata": {},
   "source": [
    "__As we can see the accuracy is about 96 % which means our classifier is working perfectly.__"
   ]
  },
  {
   "cell_type": "markdown",
   "metadata": {},
   "source": [
    "# Something Extra ......\n",
    "\n",
    "***\n",
    "\n",
    "In last I am sharing some commands to view the data in the notebook itself.<br>\n",
    "- To view Feature names<br><br>\n",
    "    > __print(iris.feature_names)__\n",
    "    \n",
    "    \n",
    "- To view Target names<br><br>\n",
    "    > __print(iris.target_names)__\n",
    "    \n",
    "    \n",
    "To view the compelete dataset at once using Pandas Dataframe here is the code"
   ]
  },
  {
   "cell_type": "code",
   "execution_count": 5,
   "metadata": {},
   "outputs": [
    {
     "data": {
      "text/html": [
       "<div>\n",
       "<style scoped>\n",
       "    .dataframe tbody tr th:only-of-type {\n",
       "        vertical-align: middle;\n",
       "    }\n",
       "\n",
       "    .dataframe tbody tr th {\n",
       "        vertical-align: top;\n",
       "    }\n",
       "\n",
       "    .dataframe thead th {\n",
       "        text-align: right;\n",
       "    }\n",
       "</style>\n",
       "<table border=\"1\" class=\"dataframe\">\n",
       "  <thead>\n",
       "    <tr style=\"text-align: right;\">\n",
       "      <th></th>\n",
       "      <th>sepal length (cm)</th>\n",
       "      <th>sepal width (cm)</th>\n",
       "      <th>petal length (cm)</th>\n",
       "      <th>petal width (cm)</th>\n",
       "    </tr>\n",
       "  </thead>\n",
       "  <tbody>\n",
       "    <tr>\n",
       "      <th>0</th>\n",
       "      <td>5.1</td>\n",
       "      <td>3.5</td>\n",
       "      <td>1.4</td>\n",
       "      <td>0.2</td>\n",
       "    </tr>\n",
       "    <tr>\n",
       "      <th>1</th>\n",
       "      <td>4.9</td>\n",
       "      <td>3.0</td>\n",
       "      <td>1.4</td>\n",
       "      <td>0.2</td>\n",
       "    </tr>\n",
       "    <tr>\n",
       "      <th>2</th>\n",
       "      <td>4.7</td>\n",
       "      <td>3.2</td>\n",
       "      <td>1.3</td>\n",
       "      <td>0.2</td>\n",
       "    </tr>\n",
       "    <tr>\n",
       "      <th>3</th>\n",
       "      <td>4.6</td>\n",
       "      <td>3.1</td>\n",
       "      <td>1.5</td>\n",
       "      <td>0.2</td>\n",
       "    </tr>\n",
       "    <tr>\n",
       "      <th>4</th>\n",
       "      <td>5.0</td>\n",
       "      <td>3.6</td>\n",
       "      <td>1.4</td>\n",
       "      <td>0.2</td>\n",
       "    </tr>\n",
       "  </tbody>\n",
       "</table>\n",
       "</div>"
      ],
      "text/plain": [
       "   sepal length (cm)        ...         petal width (cm)\n",
       "0                5.1        ...                      0.2\n",
       "1                4.9        ...                      0.2\n",
       "2                4.7        ...                      0.2\n",
       "3                4.6        ...                      0.2\n",
       "4                5.0        ...                      0.2\n",
       "\n",
       "[5 rows x 4 columns]"
      ]
     },
     "execution_count": 5,
     "metadata": {},
     "output_type": "execute_result"
    }
   ],
   "source": [
    "from sklearn.datasets import load_iris                # importing the iris\n",
    "import pandas as pd                                   # importing the pandas library\n",
    "\n",
    "data = load_iris()\n",
    "df = pd.DataFrame(data.data, columns=data.feature_names)      # creating the Pandas DATAFRAME\n",
    "df.head()                                             # printing the first 5 values of the data\n",
    "# to view the compelete dataset just uncomment the below line\n",
    "#df"
   ]
  }
 ],
 "metadata": {
  "kernelspec": {
   "display_name": "Python 3",
   "language": "python",
   "name": "python3"
  },
  "language_info": {
   "codemirror_mode": {
    "name": "ipython",
    "version": 3
   },
   "file_extension": ".py",
   "mimetype": "text/x-python",
   "name": "python",
   "nbconvert_exporter": "python",
   "pygments_lexer": "ipython3",
   "version": "3.6.4"
  }
 },
 "nbformat": 4,
 "nbformat_minor": 1
}
